{
 "cells": [
  {
   "cell_type": "markdown",
   "id": "1d52eafa",
   "metadata": {},
   "source": [
    "# Ultimate Take-Home Challenge\n",
    "\n"
   ]
  },
  {
   "cell_type": "markdown",
   "id": "1bfc9d91",
   "metadata": {},
   "source": [
    "## Part 1 - Exploratory Data Analysis"
   ]
  },
  {
   "cell_type": "markdown",
   "id": "2364d8fa",
   "metadata": {},
   "source": [
    "## Part 2 - Experiment and Metrics Design"
   ]
  },
  {
   "cell_type": "markdown",
   "id": "9a188a6b",
   "metadata": {},
   "source": []
  },
  {
   "cell_type": "markdown",
   "id": "b3917a7a",
   "metadata": {},
   "source": [
    "## Part 3 - Predictive Modeling"
   ]
  }
 ],
 "metadata": {
  "kernelspec": {
   "display_name": "Python 3 (ipykernel)",
   "language": "python",
   "name": "python3"
  },
  "language_info": {
   "codemirror_mode": {
    "name": "ipython",
    "version": 3
   },
   "file_extension": ".py",
   "mimetype": "text/x-python",
   "name": "python",
   "nbconvert_exporter": "python",
   "pygments_lexer": "ipython3",
   "version": "3.9.7"
  }
 },
 "nbformat": 4,
 "nbformat_minor": 5
}
