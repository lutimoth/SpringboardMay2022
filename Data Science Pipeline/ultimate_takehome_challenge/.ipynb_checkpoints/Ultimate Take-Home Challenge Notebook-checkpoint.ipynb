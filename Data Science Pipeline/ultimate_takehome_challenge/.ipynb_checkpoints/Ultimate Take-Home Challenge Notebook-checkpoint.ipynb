{
 "cells": [
  {
   "cell_type": "markdown",
   "id": "ff2c7992",
   "metadata": {},
   "source": [
    "# Ultimate Take-Home Challenge\n",
    "\n"
   ]
  },
  {
   "cell_type": "markdown",
   "id": "bd6ef89b",
   "metadata": {},
   "source": [
    "## Part 1 - Exploratory Data Analysis"
   ]
  },
  {
   "cell_type": "markdown",
   "id": "b30c490c",
   "metadata": {},
   "source": [
    "## Part 2 - Experiment and Metrics Design"
   ]
  },
  {
   "cell_type": "markdown",
   "id": "d2ad97cf",
   "metadata": {},
   "source": [
    "We are looking to answer the question of how to promote the usage of a toll road between two cities by driver partners through reimbursement of toll costs. \n",
    "Driver partners are those who use their personal vehicles under contract with a company for transportation services. \n",
    "\n",
    "The cities have slightly different activity patterns: during the weekday Gotham (city one) is active at night and Metropolis (city two) is active during the day, with the weekends being fairly active the whole time.\n",
    "\n",
    "In this summary, I hope to answer the following questions:\n",
    "1) What is considered a key measure of success and why?\n",
    "\n",
    "2) Describe a practical experiment to compare the effectiveness of the proposed change including implementation, statistical tests, and results metrics.\n"
   ]
  },
  {
   "cell_type": "markdown",
   "id": "0744b995",
   "metadata": {},
   "source": [
    "### Part 2.1 - Measure of Success"
   ]
  },
  {
   "cell_type": "markdown",
   "id": "33ed0149",
   "metadata": {},
   "source": [
    "## Part 3 - Predictive Modeling"
   ]
  }
 ],
 "metadata": {
  "kernelspec": {
   "display_name": "Python 3 (ipykernel)",
   "language": "python",
   "name": "python3"
  },
  "language_info": {
   "codemirror_mode": {
    "name": "ipython",
    "version": 3
   },
   "file_extension": ".py",
   "mimetype": "text/x-python",
   "name": "python",
   "nbconvert_exporter": "python",
   "pygments_lexer": "ipython3",
   "version": "3.9.7"
  }
 },
 "nbformat": 4,
 "nbformat_minor": 5
}
