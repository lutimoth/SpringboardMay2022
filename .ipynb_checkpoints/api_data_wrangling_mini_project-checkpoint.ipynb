{
 "cells": [
  {
   "cell_type": "markdown",
   "metadata": {},
   "source": [
    "This exercise will require you to pull some data from https://data.nasdaq.com/ (formerly Quandl API)."
   ]
  },
  {
   "cell_type": "markdown",
   "metadata": {},
   "source": [
    "As a first step, you will need to register a free account on the https://data.nasdaq.com/ website."
   ]
  },
  {
   "cell_type": "markdown",
   "metadata": {},
   "source": [
    "After you register, you will be provided with a unique API key, that you should store:\n",
    "\n",
    "*Note*: Use a `.env` file and put your key in there and `python-dotenv` to access it in this notebook. \n",
    "\n",
    "The code below uses a key that was used when generating this project but has since been deleted. Never submit your keys to source control. There is a `.env-example` file in this repository to illusrtate what you need. Copy that to a file called `.env` and use your own api key in that `.env` file. Make sure you also have a `.gitignore` file with a line for `.env` added to it. \n",
    "\n",
    "The standard Python gitignore is [here](https://github.com/github/gitignore/blob/master/Python.gitignore) you can just copy that. "
   ]
  },
  {
   "cell_type": "code",
   "execution_count": 1,
   "metadata": {},
   "outputs": [],
   "source": [
    "# get api key from your .env file\n",
    "import os\n",
    "from dotenv import load_dotenv\n",
    "\n",
    "load_dotenv()\n",
    "API_KEY = os.getenv('NASDAQ_API_KEY')\n",
    "\n",
    "#print(API_KEY) this was used to make sure key was getting appropriately pulled, no longer need to see this to verify"
   ]
  },
  {
   "cell_type": "markdown",
   "metadata": {},
   "source": [
    "Nasdaq Data has a large number of data sources, but, unfortunately, most of them require a Premium subscription. Still, there are also a good number of free datasets."
   ]
  },
  {
   "cell_type": "markdown",
   "metadata": {},
   "source": [
    "For this mini project, we will focus on equities data from the Frankfurt Stock Exhange (FSE), which is available for free. We'll try and analyze the stock prices of a company called Carl Zeiss Meditec, which manufactures tools for eye examinations, as well as medical lasers for laser eye surgery: https://www.zeiss.com/meditec/int/home.html. The company is listed under the stock ticker AFX_X."
   ]
  },
  {
   "cell_type": "markdown",
   "metadata": {},
   "source": [
    "You can find the detailed Nasdaq Data API instructions here: https://docs.data.nasdaq.com/docs/in-depth-usage"
   ]
  },
  {
   "cell_type": "markdown",
   "metadata": {},
   "source": [
    "While there is a dedicated Python package for connecting to the Nasdaq API, we would prefer that you use the *requests* package, which can be easily downloaded using *pip* or *conda*. You can find the documentation for the package here: http://docs.python-requests.org/en/master/ "
   ]
  },
  {
   "cell_type": "markdown",
   "metadata": {},
   "source": [
    "Finally, apart from the *requests* package, you are encouraged to not use any third party Python packages, such as *pandas*, and instead focus on what's available in the Python Standard Library (the *collections* module might come in handy: https://pymotw.com/3/collections/).\n",
    "Also, since you won't have access to DataFrames, you are encouraged to us Python's native data structures - preferably dictionaries, though some questions can also be answered using lists.\n",
    "You can read more on these data structures here: https://docs.python.org/3/tutorial/datastructures.html"
   ]
  },
  {
   "cell_type": "markdown",
   "metadata": {},
   "source": [
    "Keep in mind that the JSON responses you will be getting from the API map almost one-to-one to Python's dictionaries. Unfortunately, they can be very nested, so make sure you read up on indexing dictionaries in the documentation provided above."
   ]
  },
  {
   "cell_type": "code",
   "execution_count": 2,
   "metadata": {},
   "outputs": [],
   "source": [
    "# First, import the relevant modules\n",
    "import requests\n",
    "import collections\n",
    "import json"
   ]
  },
  {
   "cell_type": "markdown",
   "metadata": {},
   "source": [
    "Note: API's can change a bit with each version, for this exercise it is reccomended to use the nasdaq api at `https://data.nasdaq.com/api/v3/`. This is the same api as what used to be quandl so `https://www.quandl.com/api/v3/` should work too.\n",
    "\n",
    "Hint: We are looking for the `AFX_X` data on the `datasets/FSE/` dataset."
   ]
  },
  {
   "cell_type": "code",
   "execution_count": 3,
   "metadata": {},
   "outputs": [],
   "source": [
    "# Now, call the Nasdaq API and pull out a small sample of the data (only one day) to get a glimpse\n",
    "# into the JSON structure that will be returned\n",
    "url = 'https://data.nasdaq.com/api/v3/datasets/FSE/AFX_X/data.json?collapse=daily&limit=1&api_key='+API_KEY\n",
    "#print(url) this was to confirm the url string was correct in initial testing\n",
    "afx = requests.get(url)\n",
    "afx_json = afx.json()"
   ]
  },
  {
   "cell_type": "code",
   "execution_count": 4,
   "metadata": {},
   "outputs": [
    {
     "name": "stdout",
     "output_type": "stream",
     "text": [
      "{'dataset_data': {'limit': 1, 'transform': None, 'column_index': None, 'column_names': ['Date', 'Open', 'High', 'Low', 'Close', 'Change', 'Traded Volume', 'Turnover', 'Last Price of the Day', 'Daily Traded Units', 'Daily Turnover'], 'start_date': '2000-06-07', 'end_date': '2020-12-01', 'frequency': 'daily', 'data': [['2020-12-01', 112.2, 112.2, 111.5, 112.0, None, 51.0, 5703.0, None, None, None]], 'collapse': 'daily', 'order': None}}\n"
     ]
    }
   ],
   "source": [
    "# Inspect the JSON structure of the object you created, and take note of how nested it is,\n",
    "# as well as the overall structure\n",
    "# Use this as our reference for the future\n",
    "print(afx_json)"
   ]
  },
  {
   "cell_type": "markdown",
   "metadata": {},
   "source": [
    "These are your tasks for this mini project:\n",
    "\n",
    "1. Collect data from the Franfurt Stock Exchange, for the ticker AFX_X, for the whole year 2017 (keep in mind that the date format is YYYY-MM-DD).\n",
    "2. Convert the returned JSON object into a Python dictionary.\n",
    "3. Calculate what the highest and lowest opening prices were for the stock in this period.\n",
    "4. What was the largest change in any one day (based on High and Low price)?\n",
    "5. What was the largest change between any two days (based on Closing Price)?\n",
    "6. What was the average daily trading volume during this year?\n",
    "7. (Optional) What was the median trading volume during this year. (Note: you may need to implement your own function for calculating the median.)"
   ]
  },
  {
   "cell_type": "code",
   "execution_count": 5,
   "metadata": {},
   "outputs": [],
   "source": [
    "#Create the URL that will be used to query the API\n",
    "\n",
    "url_2017 = 'https://data.nasdaq.com/api/v3/datasets/FSE/AFX_X/data.json?collapse=daily&start_date=2017-01-01&end_date=2017-12-31&api_key='+API_KEY\n",
    "#print(url_2017) This was utilized as refrence to make sure everything appended properly"
   ]
  },
  {
   "cell_type": "code",
   "execution_count": 6,
   "metadata": {},
   "outputs": [],
   "source": [
    "# Call the API and pull out the data for year 2017 and convert it into a Python dictionary\n",
    "# Not printing it here to avoid a huge dump of data, we will use the earlier dict as a reference\n",
    "afx_x_2017 = requests.get(url_2017)\n",
    "afx_x_2017_json = afx_x_2017.json()"
   ]
  },
  {
   "cell_type": "code",
   "execution_count": 7,
   "metadata": {},
   "outputs": [],
   "source": [
    "#Create a list of all opens for the data set\n",
    "#We know that within the 'data index' of the 'dataset_data', the open data is in index 1\n",
    "#Using list comprehension, we can iterate over the index\n",
    "afx_x_2017_open = [elem[1] for elem in afx_x_2017_json['dataset_data']['data']]\n",
    "\n",
    "#Remove all None values in the list using a filter\n",
    "#Preserve the original list for calculations\n",
    "#These were discovered when trying to run the Max function the first time\n",
    "\n",
    "afx_x_2017_open_filtered = list(filter(None, afx_x_2017_open))"
   ]
  },
  {
   "cell_type": "code",
   "execution_count": 8,
   "metadata": {},
   "outputs": [
    {
     "name": "stdout",
     "output_type": "stream",
     "text": [
      "The highest Open for AFX_X during the year 2017 was $53.11.\n",
      "The lowest Open for AFX_X during the year 2017 was $34.0.\n"
     ]
    }
   ],
   "source": [
    "# Find the max value and min value of all the Open values using max() and min()\n",
    "# Convert float() to str() to append to the statement\n",
    "\n",
    "print('The highest Open for AFX_X during the year 2017 was $'+str(max(afx_x_2017_open_filtered))+'.')\n",
    "print('The lowest Open for AFX_X during the year 2017 was $'+str(min(afx_x_2017_open_filtered))+'.')"
   ]
  },
  {
   "cell_type": "code",
   "execution_count": 9,
   "metadata": {},
   "outputs": [],
   "source": [
    "#Create a list of Highs and Lows for the data set, we know highs are at index 2 and lows are at index 3 \n",
    "#This is based on the column names index which matches the data list of lists\n",
    "\n",
    "afx_x_2017_highs = [elem[2] for elem in afx_x_2017_json['dataset_data']['data']]\n",
    "afx_x_2017_lows = [elem[3] for elem in afx_x_2017_json['dataset_data']['data']]\n",
    "afx_x_2017_high_low = zip(afx_x_2017_highs, afx_x_2017_lows)\n"
   ]
  },
  {
   "cell_type": "code",
   "execution_count": 10,
   "metadata": {},
   "outputs": [
    {
     "name": "stdout",
     "output_type": "stream",
     "text": [
      "The largest Change for AFX_X during the year 2017 was $2.81.\n"
     ]
    }
   ],
   "source": [
    "#Initiate empty list for loop\n",
    "afx_x_2017_daily_change = []\n",
    "\n",
    "#For each index, subtract the highs from the lows and append it to the daily change\n",
    "for afx_x_2017_highs_i, afx_x_2017_lows_i in afx_x_2017_high_low:\n",
    "    afx_x_2017_daily_change.append(afx_x_2017_highs_i - afx_x_2017_lows_i )\n",
    "    \n",
    "#Round the floats\n",
    "afx_x_2017_daily_change = [round(elem,2) for elem in afx_x_2017_daily_change]\n",
    "\n",
    "\n",
    "print('The largest Change for AFX_X during the year 2017 was $'+str(max(afx_x_2017_daily_change))+'.')"
   ]
  },
  {
   "cell_type": "code",
   "execution_count": 11,
   "metadata": {},
   "outputs": [
    {
     "name": "stdout",
     "output_type": "stream",
     "text": [
      "The largest change between days for AFX_X during the year 2017 was $2.56.\n"
     ]
    }
   ],
   "source": [
    "#Create a list of Closing prices for the year 2017\n",
    "afx_x_2017_close = [elem[4] for elem in afx_x_2017_json['dataset_data']['data']]\n",
    "\n",
    "#Find the difference between closing costs making sure we use abs() to get the magnitude of difference\n",
    "#otherwise, max() will only find the largest POSITIVE change\n",
    "afx_x_2017_close_diff = [abs(y - x) for x,y in zip(afx_x_2017_close,afx_x_2017_close[1:])]\n",
    "#make sure we round the floats for tidiness\n",
    "afx_x_2017_close_diff = [round(elem, 2) for elem in afx_x_2017_close_diff]\n",
    "print('The largest change between days for AFX_X during the year 2017 was $'+str(max(afx_x_2017_close_diff))+'.')"
   ]
  },
  {
   "cell_type": "code",
   "execution_count": 12,
   "metadata": {},
   "outputs": [
    {
     "name": "stdout",
     "output_type": "stream",
     "text": [
      "The average traded volume for AFX_X during the year 2017 was 89124.0.\n"
     ]
    }
   ],
   "source": [
    "#Create list of all traded volumes of each day\n",
    "afx_x_2017_trade_vol = [el[6] for el in afx_x_2017_json['dataset_data']['data']]\n",
    "\n",
    "#Calculate the average traded volume and round the value\n",
    "afx_x_2017_trade_avg = sum(afx_x_2017_trade_vol)/len(afx_x_2017_trade_vol)\n",
    "afx_x_2017_trade_avg = round(afx_x_2017_trade_avg,0)\n",
    "\n",
    "\n",
    "print('The average traded volume for AFX_X during the year 2017 was '+str(afx_x_2017_trade_avg)+'.')"
   ]
  },
  {
   "cell_type": "code",
   "execution_count": 13,
   "metadata": {},
   "outputs": [
    {
     "data": {
      "text/plain": [
       "76286.0"
      ]
     },
     "execution_count": 13,
     "metadata": {},
     "output_type": "execute_result"
    }
   ],
   "source": [
    "#Using a function in order to perform the calculation of median\n",
    "#First, sort the list\n",
    "\n",
    "afx_x_2017_trade_vol_sorted = sorted(afx_x_2017_trade_vol)\n",
    "\n",
    "#Next, create a function that will take any list of integers and find the median\n",
    "def user_median(numbers):\n",
    "    \n",
    "    #take the length of the array\n",
    "    n = len(numbers)\n",
    "    \n",
    "    #find the \"middle\" index\n",
    "    index = n//2\n",
    "    \n",
    "    #for an odd number of observations -> we can use the index\n",
    "    if n % 2:\n",
    "        return numbers[index]\n",
    "    \n",
    "    #for even number of observations -> we take index-1 and index itself (range index +1) and divide by 2\n",
    "    return sum(numbers[index-1:index+1])/2\n",
    "\n",
    "user_median(afx_x_2017_trade_vol_sorted)"
   ]
  },
  {
   "cell_type": "code",
   "execution_count": 14,
   "metadata": {},
   "outputs": [
    {
     "name": "stdout",
     "output_type": "stream",
     "text": [
      "76286.0\n"
     ]
    }
   ],
   "source": [
    "#Using built-in statistics function as part of Python Standard Library to find median\n",
    "from statistics import median\n",
    "\n",
    "afx_x_2017_trade_median = median(afx_x_2017_trade_vol)\n",
    "print(afx_x_2017_trade_median)"
   ]
  }
 ],
 "metadata": {
  "interpreter": {
   "hash": "7635eb1b9d0fe97add78a7368b6b431c09bb8ad5c42e437d64abdd99821c31ae"
  },
  "kernelspec": {
   "display_name": "Python 3 (ipykernel)",
   "language": "python",
   "name": "python3"
  },
  "language_info": {
   "codemirror_mode": {
    "name": "ipython",
    "version": 3
   },
   "file_extension": ".py",
   "mimetype": "text/x-python",
   "name": "python",
   "nbconvert_exporter": "python",
   "pygments_lexer": "ipython3",
   "version": "3.9.7"
  }
 },
 "nbformat": 4,
 "nbformat_minor": 4
}
